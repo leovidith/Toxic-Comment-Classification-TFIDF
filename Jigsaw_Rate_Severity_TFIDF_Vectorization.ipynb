{
  "cells": [
    {
      "cell_type": "code",
      "execution_count": null,
      "id": "a0f6375a",
      "metadata": {
        "execution": {
          "iopub.execute_input": "2021-12-04T08:57:06.292285Z",
          "iopub.status.busy": "2021-12-04T08:57:06.291162Z",
          "iopub.status.idle": "2021-12-04T08:57:12.871020Z",
          "shell.execute_reply": "2021-12-04T08:57:12.871554Z",
          "shell.execute_reply.started": "2021-11-18T16:46:30.543855Z"
        },
        "papermill": {
          "duration": 6.607418,
          "end_time": "2021-12-04T08:57:12.871875",
          "exception": false,
          "start_time": "2021-12-04T08:57:06.264457",
          "status": "completed"
        },
        "tags": [],
        "id": "a0f6375a"
      },
      "outputs": [],
      "source": [
        "import numpy as np\n",
        "import pandas as pd\n",
        "\n",
        "import tensorflow as tf\n",
        "from tensorflow import keras\n",
        "from tensorflow.keras import layers\n",
        "\n",
        "import sklearn\n",
        "from sklearn import model_selection\n",
        "from sklearn import metrics\n",
        "\n",
        "import os\n",
        "from scipy.stats import rankdata"
      ]
    },
    {
      "cell_type": "code",
      "execution_count": null,
      "id": "41eee1d6",
      "metadata": {
        "execution": {
          "iopub.execute_input": "2021-12-04T08:57:12.910809Z",
          "iopub.status.busy": "2021-12-04T08:57:12.909568Z",
          "iopub.status.idle": "2021-12-04T08:57:12.917945Z",
          "shell.execute_reply": "2021-12-04T08:57:12.917279Z",
          "shell.execute_reply.started": "2021-11-18T16:52:30.82841Z"
        },
        "papermill": {
          "duration": 0.028791,
          "end_time": "2021-12-04T08:57:12.918076",
          "exception": false,
          "start_time": "2021-12-04T08:57:12.889285",
          "status": "completed"
        },
        "tags": [],
        "id": "41eee1d6"
      },
      "outputs": [],
      "source": [
        "class ModelConfig:\n",
        "    vocabulary_size = 20000\n",
        "    batch_size = 256\n",
        "    num_epochs = 50\n",
        "    target_labels = ['toxic', 'severe_toxic', 'obscene', 'threat', 'insult', 'identity_hate']\n",
        "    label_weights = [1, 2, 2, 5, 1, 2]\n",
        "    output_dataset_directory = \"../input/tfidf-vectorization-with-keras-output\"\n",
        "    best_accuracy_model_path = \"model_best_acc.tf\"\n",
        "    best_auc_model_path = \"model_best_auc.tf\"\n",
        "    best_loss_model_path = \"model_best_loss.tf\"\n",
        "    latest_model_path = \"model_latest.tf\"\n",
        "    model_file_paths = [best_accuracy_model_path, best_auc_model_path, latest_model_path, best_loss_model_path]\n",
        "    operation_modes = [\"training\", \"inference\"]\n",
        "    current_mode = operation_modes[0]\n",
        "\n",
        "config = ModelConfig()"
      ]
    },
    {
      "cell_type": "markdown",
      "id": "2e79db51",
      "metadata": {
        "papermill": {
          "duration": 0.017236,
          "end_time": "2021-12-04T08:57:12.953307",
          "exception": false,
          "start_time": "2021-12-04T08:57:12.936071",
          "status": "completed"
        },
        "tags": [],
        "id": "2e79db51"
      },
      "source": [
        "## Prepare the data\n"
      ]
    },
    {
      "cell_type": "code",
      "execution_count": null,
      "id": "f776a655",
      "metadata": {
        "execution": {
          "iopub.execute_input": "2021-12-04T08:57:12.993291Z",
          "iopub.status.busy": "2021-12-04T08:57:12.992571Z",
          "iopub.status.idle": "2021-12-04T08:57:14.963094Z",
          "shell.execute_reply": "2021-12-04T08:57:14.963755Z",
          "shell.execute_reply.started": "2021-11-18T16:24:59.568488Z"
        },
        "papermill": {
          "duration": 1.993479,
          "end_time": "2021-12-04T08:57:14.963982",
          "exception": false,
          "start_time": "2021-12-04T08:57:12.970503",
          "status": "completed"
        },
        "tags": [],
        "id": "f776a655",
        "outputId": "3fa0661a-b4b3-4cc3-f873-901f3c8f8e05"
      },
      "outputs": [
        {
          "data": {
            "text/html": [
              "<div>\n",
              "<style scoped>\n",
              "    .dataframe tbody tr th:only-of-type {\n",
              "        vertical-align: middle;\n",
              "    }\n",
              "\n",
              "    .dataframe tbody tr th {\n",
              "        vertical-align: top;\n",
              "    }\n",
              "\n",
              "    .dataframe thead th {\n",
              "        text-align: right;\n",
              "    }\n",
              "</style>\n",
              "<table border=\"1\" class=\"dataframe\">\n",
              "  <thead>\n",
              "    <tr style=\"text-align: right;\">\n",
              "      <th></th>\n",
              "      <th>id</th>\n",
              "      <th>text</th>\n",
              "      <th>toxic</th>\n",
              "      <th>severe_toxic</th>\n",
              "      <th>obscene</th>\n",
              "      <th>threat</th>\n",
              "      <th>insult</th>\n",
              "      <th>identity_hate</th>\n",
              "    </tr>\n",
              "  </thead>\n",
              "  <tbody>\n",
              "    <tr>\n",
              "      <th>0</th>\n",
              "      <td>0000997932d777bf</td>\n",
              "      <td>Explanation\\nWhy the edits made under my usern...</td>\n",
              "      <td>0</td>\n",
              "      <td>0</td>\n",
              "      <td>0</td>\n",
              "      <td>0</td>\n",
              "      <td>0</td>\n",
              "      <td>0</td>\n",
              "    </tr>\n",
              "    <tr>\n",
              "      <th>1</th>\n",
              "      <td>000103f0d9cfb60f</td>\n",
              "      <td>D'aww! He matches this background colour I'm s...</td>\n",
              "      <td>0</td>\n",
              "      <td>0</td>\n",
              "      <td>0</td>\n",
              "      <td>0</td>\n",
              "      <td>0</td>\n",
              "      <td>0</td>\n",
              "    </tr>\n",
              "    <tr>\n",
              "      <th>2</th>\n",
              "      <td>000113f07ec002fd</td>\n",
              "      <td>Hey man, I'm really not trying to edit war. It...</td>\n",
              "      <td>0</td>\n",
              "      <td>0</td>\n",
              "      <td>0</td>\n",
              "      <td>0</td>\n",
              "      <td>0</td>\n",
              "      <td>0</td>\n",
              "    </tr>\n",
              "    <tr>\n",
              "      <th>3</th>\n",
              "      <td>0001b41b1c6bb37e</td>\n",
              "      <td>\"\\nMore\\nI can't make any real suggestions on ...</td>\n",
              "      <td>0</td>\n",
              "      <td>0</td>\n",
              "      <td>0</td>\n",
              "      <td>0</td>\n",
              "      <td>0</td>\n",
              "      <td>0</td>\n",
              "    </tr>\n",
              "    <tr>\n",
              "      <th>4</th>\n",
              "      <td>0001d958c54c6e35</td>\n",
              "      <td>You, sir, are my hero. Any chance you remember...</td>\n",
              "      <td>0</td>\n",
              "      <td>0</td>\n",
              "      <td>0</td>\n",
              "      <td>0</td>\n",
              "      <td>0</td>\n",
              "      <td>0</td>\n",
              "    </tr>\n",
              "  </tbody>\n",
              "</table>\n",
              "</div>"
            ],
            "text/plain": [
              "                 id                                               text  toxic  \\\n",
              "0  0000997932d777bf  Explanation\\nWhy the edits made under my usern...      0   \n",
              "1  000103f0d9cfb60f  D'aww! He matches this background colour I'm s...      0   \n",
              "2  000113f07ec002fd  Hey man, I'm really not trying to edit war. It...      0   \n",
              "3  0001b41b1c6bb37e  \"\\nMore\\nI can't make any real suggestions on ...      0   \n",
              "4  0001d958c54c6e35  You, sir, are my hero. Any chance you remember...      0   \n",
              "\n",
              "   severe_toxic  obscene  threat  insult  identity_hate  \n",
              "0             0        0       0       0              0  \n",
              "1             0        0       0       0              0  \n",
              "2             0        0       0       0              0  \n",
              "3             0        0       0       0              0  \n",
              "4             0        0       0       0              0  "
            ]
          },
          "execution_count": 3,
          "metadata": {},
          "output_type": "execute_result"
        }
      ],
      "source": [
        "training_data = pd.read_csv(\"../input/jigsaw-toxic-comment-classification-challenge/train.csv\")\n",
        "training_data = training_data.rename(columns={'comment_text': 'text'})\n",
        "training_data.head()"
      ]
    },
    {
      "cell_type": "markdown",
      "id": "325facf8",
      "metadata": {
        "papermill": {
          "duration": 0.017222,
          "end_time": "2021-12-04T08:57:14.999180",
          "exception": false,
          "start_time": "2021-12-04T08:57:14.981958",
          "status": "completed"
        },
        "tags": [],
        "id": "325facf8"
      },
      "source": [
        "## TF-IDF vectorization"
      ]
    },
    {
      "cell_type": "code",
      "execution_count": null,
      "id": "46d9beb3",
      "metadata": {
        "execution": {
          "iopub.execute_input": "2021-12-04T08:57:15.044694Z",
          "iopub.status.busy": "2021-12-04T08:57:15.043665Z",
          "iopub.status.idle": "2021-12-04T08:57:55.444705Z",
          "shell.execute_reply": "2021-12-04T08:57:55.444067Z",
          "shell.execute_reply.started": "2021-11-18T16:25:06.81523Z"
        },
        "papermill": {
          "duration": 40.427897,
          "end_time": "2021-12-04T08:57:55.444901",
          "exception": false,
          "start_time": "2021-12-04T08:57:15.017004",
          "status": "completed"
        },
        "tags": [],
        "id": "46d9beb3",
        "outputId": "9d1ebc07-d33d-49d3-b8c9-d3344206c964"
      },
      "outputs": [
        {
          "name": "stderr",
          "output_type": "stream",
          "text": [
            "2021-12-04 08:57:15.120716: I tensorflow/stream_executor/cuda/cuda_gpu_executor.cc:937] successful NUMA node read from SysFS had negative value (-1), but there must be at least one NUMA node, so returning NUMA node zero\n",
            "2021-12-04 08:57:15.291759: I tensorflow/stream_executor/cuda/cuda_gpu_executor.cc:937] successful NUMA node read from SysFS had negative value (-1), but there must be at least one NUMA node, so returning NUMA node zero\n",
            "2021-12-04 08:57:15.292945: I tensorflow/stream_executor/cuda/cuda_gpu_executor.cc:937] successful NUMA node read from SysFS had negative value (-1), but there must be at least one NUMA node, so returning NUMA node zero\n",
            "2021-12-04 08:57:15.295434: I tensorflow/core/platform/cpu_feature_guard.cc:142] This TensorFlow binary is optimized with oneAPI Deep Neural Network Library (oneDNN) to use the following CPU instructions in performance-critical operations:  AVX2 FMA\n",
            "To enable them in other operations, rebuild TensorFlow with the appropriate compiler flags.\n",
            "2021-12-04 08:57:15.300316: I tensorflow/stream_executor/cuda/cuda_gpu_executor.cc:937] successful NUMA node read from SysFS had negative value (-1), but there must be at least one NUMA node, so returning NUMA node zero\n",
            "2021-12-04 08:57:15.301468: I tensorflow/stream_executor/cuda/cuda_gpu_executor.cc:937] successful NUMA node read from SysFS had negative value (-1), but there must be at least one NUMA node, so returning NUMA node zero\n",
            "2021-12-04 08:57:15.302628: I tensorflow/stream_executor/cuda/cuda_gpu_executor.cc:937] successful NUMA node read from SysFS had negative value (-1), but there must be at least one NUMA node, so returning NUMA node zero\n",
            "2021-12-04 08:57:17.621868: I tensorflow/stream_executor/cuda/cuda_gpu_executor.cc:937] successful NUMA node read from SysFS had negative value (-1), but there must be at least one NUMA node, so returning NUMA node zero\n",
            "2021-12-04 08:57:17.623253: I tensorflow/stream_executor/cuda/cuda_gpu_executor.cc:937] successful NUMA node read from SysFS had negative value (-1), but there must be at least one NUMA node, so returning NUMA node zero\n",
            "2021-12-04 08:57:17.624521: I tensorflow/stream_executor/cuda/cuda_gpu_executor.cc:937] successful NUMA node read from SysFS had negative value (-1), but there must be at least one NUMA node, so returning NUMA node zero\n",
            "2021-12-04 08:57:17.625602: I tensorflow/core/common_runtime/gpu/gpu_device.cc:1510] Created device /job:localhost/replica:0/task:0/device:GPU:0 with 15403 MB memory:  -> device: 0, name: Tesla P100-PCIE-16GB, pci bus id: 0000:00:04.0, compute capability: 6.0\n",
            "2021-12-04 08:57:18.422257: I tensorflow/compiler/mlir/mlir_graph_optimization_pass.cc:185] None of the MLIR Optimization Passes are enabled (registered 2)\n"
          ]
        }
      ],
      "source": [
        "text_data = training_data[\"text\"]\n",
        "tfidf_vectorizer = layers.TextVectorization(max_tokens=config.vocabulary_size, output_mode=\"tf-idf\", ngrams=2)\n",
        "\n",
        "with tf.device(\"CPU\"):\n",
        "    tfidf_vectorizer.adapt(text_data)"
      ]
    },
    {
      "cell_type": "code",
      "execution_count": null,
      "id": "183ad5f7",
      "metadata": {
        "execution": {
          "iopub.execute_input": "2021-12-04T08:57:55.505568Z",
          "iopub.status.busy": "2021-12-04T08:57:55.504477Z",
          "iopub.status.idle": "2021-12-04T08:57:55.547235Z",
          "shell.execute_reply": "2021-12-04T08:57:55.547869Z",
          "shell.execute_reply.started": "2021-11-18T16:25:47.590288Z"
        },
        "papermill": {
          "duration": 0.083646,
          "end_time": "2021-12-04T08:57:55.548055",
          "exception": false,
          "start_time": "2021-12-04T08:57:55.464409",
          "status": "completed"
        },
        "tags": [],
        "id": "183ad5f7",
        "outputId": "e275ed46-794f-452f-e985-7b9c541b0d8b"
      },
      "outputs": [
        {
          "data": {
            "text/html": [
              "<div>\n",
              "<style scoped>\n",
              "    .dataframe tbody tr th:only-of-type {\n",
              "        vertical-align: middle;\n",
              "    }\n",
              "\n",
              "    .dataframe tbody tr th {\n",
              "        vertical-align: top;\n",
              "    }\n",
              "\n",
              "    .dataframe thead th {\n",
              "        text-align: right;\n",
              "    }\n",
              "</style>\n",
              "<table border=\"1\" class=\"dataframe\">\n",
              "  <thead>\n",
              "    <tr style=\"text-align: right;\">\n",
              "      <th></th>\n",
              "      <th>toxic</th>\n",
              "      <th>severe_toxic</th>\n",
              "      <th>obscene</th>\n",
              "      <th>threat</th>\n",
              "      <th>insult</th>\n",
              "      <th>identity_hate</th>\n",
              "    </tr>\n",
              "  </thead>\n",
              "  <tbody>\n",
              "    <tr>\n",
              "      <th>count</th>\n",
              "      <td>159571.000000</td>\n",
              "      <td>159571.000000</td>\n",
              "      <td>159571.000000</td>\n",
              "      <td>159571.000000</td>\n",
              "      <td>159571.000000</td>\n",
              "      <td>159571.000000</td>\n",
              "    </tr>\n",
              "    <tr>\n",
              "      <th>mean</th>\n",
              "      <td>0.095844</td>\n",
              "      <td>0.009996</td>\n",
              "      <td>0.052948</td>\n",
              "      <td>0.002996</td>\n",
              "      <td>0.049364</td>\n",
              "      <td>0.008805</td>\n",
              "    </tr>\n",
              "    <tr>\n",
              "      <th>std</th>\n",
              "      <td>0.294379</td>\n",
              "      <td>0.099477</td>\n",
              "      <td>0.223931</td>\n",
              "      <td>0.054650</td>\n",
              "      <td>0.216627</td>\n",
              "      <td>0.093420</td>\n",
              "    </tr>\n",
              "    <tr>\n",
              "      <th>min</th>\n",
              "      <td>0.000000</td>\n",
              "      <td>0.000000</td>\n",
              "      <td>0.000000</td>\n",
              "      <td>0.000000</td>\n",
              "      <td>0.000000</td>\n",
              "      <td>0.000000</td>\n",
              "    </tr>\n",
              "    <tr>\n",
              "      <th>25%</th>\n",
              "      <td>0.000000</td>\n",
              "      <td>0.000000</td>\n",
              "      <td>0.000000</td>\n",
              "      <td>0.000000</td>\n",
              "      <td>0.000000</td>\n",
              "      <td>0.000000</td>\n",
              "    </tr>\n",
              "    <tr>\n",
              "      <th>50%</th>\n",
              "      <td>0.000000</td>\n",
              "      <td>0.000000</td>\n",
              "      <td>0.000000</td>\n",
              "      <td>0.000000</td>\n",
              "      <td>0.000000</td>\n",
              "      <td>0.000000</td>\n",
              "    </tr>\n",
              "    <tr>\n",
              "      <th>75%</th>\n",
              "      <td>0.000000</td>\n",
              "      <td>0.000000</td>\n",
              "      <td>0.000000</td>\n",
              "      <td>0.000000</td>\n",
              "      <td>0.000000</td>\n",
              "      <td>0.000000</td>\n",
              "    </tr>\n",
              "    <tr>\n",
              "      <th>max</th>\n",
              "      <td>1.000000</td>\n",
              "      <td>1.000000</td>\n",
              "      <td>1.000000</td>\n",
              "      <td>1.000000</td>\n",
              "      <td>1.000000</td>\n",
              "      <td>1.000000</td>\n",
              "    </tr>\n",
              "  </tbody>\n",
              "</table>\n",
              "</div>"
            ],
            "text/plain": [
              "               toxic   severe_toxic        obscene         threat  \\\n",
              "count  159571.000000  159571.000000  159571.000000  159571.000000   \n",
              "mean        0.095844       0.009996       0.052948       0.002996   \n",
              "std         0.294379       0.099477       0.223931       0.054650   \n",
              "min         0.000000       0.000000       0.000000       0.000000   \n",
              "25%         0.000000       0.000000       0.000000       0.000000   \n",
              "50%         0.000000       0.000000       0.000000       0.000000   \n",
              "75%         0.000000       0.000000       0.000000       0.000000   \n",
              "max         1.000000       1.000000       1.000000       1.000000   \n",
              "\n",
              "              insult  identity_hate  \n",
              "count  159571.000000  159571.000000  \n",
              "mean        0.049364       0.008805  \n",
              "std         0.216627       0.093420  \n",
              "min         0.000000       0.000000  \n",
              "25%         0.000000       0.000000  \n",
              "50%         0.000000       0.000000  \n",
              "75%         0.000000       0.000000  \n",
              "max         1.000000       1.000000  "
            ]
          },
          "execution_count": 5,
          "metadata": {},
          "output_type": "execute_result"
        }
      ],
      "source": [
        "target_data = training_data[config.target_labels]\n",
        "target_data.describe()"
      ]
    },
    {
      "cell_type": "markdown",
      "id": "56999557",
      "metadata": {
        "papermill": {
          "duration": 0.019291,
          "end_time": "2021-12-04T08:57:55.588337",
          "exception": false,
          "start_time": "2021-12-04T08:57:55.569046",
          "status": "completed"
        },
        "tags": [],
        "id": "56999557"
      },
      "source": [
        "The output of the vectorizer:"
      ]
    },
    {
      "cell_type": "code",
      "execution_count": null,
      "id": "be8c76c1",
      "metadata": {
        "execution": {
          "iopub.execute_input": "2021-12-04T08:57:55.634012Z",
          "iopub.status.busy": "2021-12-04T08:57:55.633091Z",
          "iopub.status.idle": "2021-12-04T08:57:55.709263Z",
          "shell.execute_reply": "2021-12-04T08:57:55.709814Z",
          "shell.execute_reply.started": "2021-11-18T16:25:47.648487Z"
        },
        "papermill": {
          "duration": 0.102257,
          "end_time": "2021-12-04T08:57:55.709996",
          "exception": false,
          "start_time": "2021-12-04T08:57:55.607739",
          "status": "completed"
        },
        "tags": [],
        "id": "be8c76c1",
        "outputId": "90cea61d-b7dd-4060-e001-5b6d57d9239f"
      },
      "outputs": [
        {
          "data": {
            "text/plain": [
              "TensorShape([256, 20000])"
            ]
          },
          "execution_count": 6,
          "metadata": {},
          "output_type": "execute_result"
        }
      ],
      "source": [
        "sample_batch = tfidf_vectorizer(X[0:config.batch_size])\n",
        "sample_batch.shape"
      ]
    },
    {
      "cell_type": "markdown",
      "id": "65e3b1a9",
      "metadata": {
        "papermill": {
          "duration": 0.019754,
          "end_time": "2021-12-04T08:57:55.749811",
          "exception": false,
          "start_time": "2021-12-04T08:57:55.730057",
          "status": "completed"
        },
        "tags": [],
        "id": "65e3b1a9"
      },
      "source": [
        "## Model Development"
      ]
    },
    {
      "cell_type": "code",
      "execution_count": null,
      "id": "7923b6b1",
      "metadata": {
        "execution": {
          "iopub.execute_input": "2021-12-04T08:57:55.801447Z",
          "iopub.status.busy": "2021-12-04T08:57:55.796307Z",
          "iopub.status.idle": "2021-12-04T08:57:55.910972Z",
          "shell.execute_reply": "2021-12-04T08:57:55.911928Z",
          "shell.execute_reply.started": "2021-11-18T16:25:55.133177Z"
        },
        "papermill": {
          "duration": 0.143269,
          "end_time": "2021-12-04T08:57:55.912230",
          "exception": false,
          "start_time": "2021-12-04T08:57:55.768961",
          "status": "completed"
        },
        "tags": [],
        "id": "7923b6b1",
        "outputId": "d78e0e6d-a89a-4c0d-c094-9b0d454d5a0d"
      },
      "outputs": [
        {
          "name": "stdout",
          "output_type": "stream",
          "text": [
            "Model: \"sequential\"\n",
            "_________________________________________________________________\n",
            "Layer (type)                 Output Shape              Param #   \n",
            "=================================================================\n",
            "text_vectorization (TextVect (None, 20000)             1         \n",
            "_________________________________________________________________\n",
            "dense (Dense)                (None, 256)               5120256   \n",
            "_________________________________________________________________\n",
            "dense_1 (Dense)              (None, 32)                8224      \n",
            "_________________________________________________________________\n",
            "dense_2 (Dense)              (None, 6)                 198       \n",
            "=================================================================\n",
            "Total params: 5,128,679\n",
            "Trainable params: 5,128,678\n",
            "Non-trainable params: 1\n",
            "_________________________________________________________________\n"
          ]
        }
      ],
      "source": [
        "model = keras.Sequential([\n",
        "    keras.Input(shape=(None, ), dtype=\"string\"),\n",
        "    tfidf_vectorizer,\n",
        "    layers.Dense(256, activation=\"relu\", kernel_regularizer=\"l2\"),\n",
        "    layers.Dense(32, activation=\"relu\", kernel_regularizer=\"l2\"),\n",
        "    layers.Dense(len(config.target_labels), activation=\"sigmoid\")\n",
        "])\n",
        "\n",
        "model.compile(optimizer=\"adam\", loss=\"binary_crossentropy\", metrics=[\"categorical_accuracy\", keras.metrics.AUC()])\n",
        "model.summary()"
      ]
    },
    {
      "cell_type": "code",
      "execution_count": null,
      "id": "27b9141a",
      "metadata": {
        "execution": {
          "iopub.execute_input": "2021-12-04T08:57:55.961572Z",
          "iopub.status.busy": "2021-12-04T08:57:55.957763Z",
          "iopub.status.idle": "2021-12-04T08:57:56.944468Z",
          "shell.execute_reply": "2021-12-04T08:57:56.943599Z"
        },
        "papermill": {
          "duration": 1.01092,
          "end_time": "2021-12-04T08:57:56.944609",
          "exception": false,
          "start_time": "2021-12-04T08:57:55.933689",
          "status": "completed"
        },
        "tags": [],
        "id": "27b9141a",
        "outputId": "3d2448c1-605a-4fbf-f946-d2445617a83c"
      },
      "outputs": [
        {
          "data": {
            "image/png": "[encoded data removed]",
            "text/plain": [
              "<IPython.core.display.Image object>"
            ]
          },
          "execution_count": 8,
          "metadata": {},
          "output_type": "execute_result"
        }
      ],
      "source": [
        "keras.utils.plot_model(model)"
      ]
    },
    {
      "cell_type": "markdown",
      "id": "c3bf32d5",
      "metadata": {
        "papermill": {
          "duration": 0.020019,
          "end_time": "2021-12-04T08:57:56.985461",
          "exception": false,
          "start_time": "2021-12-04T08:57:56.965442",
          "status": "completed"
        },
        "tags": [],
        "id": "c3bf32d5"
      },
      "source": [
        "## Train Validation Split"
      ]
    },
    {
      "cell_type": "code",
      "execution_count": null,
      "id": "430ac341",
      "metadata": {
        "execution": {
          "iopub.execute_input": "2021-12-04T08:57:57.038030Z",
          "iopub.status.busy": "2021-12-04T08:57:57.037068Z",
          "iopub.status.idle": "2021-12-04T08:57:57.101014Z",
          "shell.execute_reply": "2021-12-04T08:57:57.101682Z",
          "shell.execute_reply.started": "2021-11-18T16:54:30.312491Z"
        },
        "papermill": {
          "duration": 0.095414,
          "end_time": "2021-12-04T08:57:57.101868",
          "exception": false,
          "start_time": "2021-12-04T08:57:57.006454",
          "status": "completed"
        },
        "tags": [],
        "id": "430ac341",
        "outputId": "d7f18f56-9a7a-4514-f51c-1661da6d03eb"
      },
      "outputs": [
        {
          "data": {
            "text/plain": [
              "((127656,), (31915,), (127656, 6), (31915, 6))"
            ]
          },
          "execution_count": 9,
          "metadata": {},
          "output_type": "execute_result"
        }
      ],
      "source": [
        "train_text_data, val_text_data, train_labels, val_labels = model_selection.train_test_split(X, y, test_size=0.2, random_state=42)\n",
        "train_text_data.shape, val_text_data.shape, train_labels.shape, val_labels.shape"
      ]
    },
    {
      "cell_type": "markdown",
      "id": "02f81837",
      "metadata": {
        "papermill": {
          "duration": 0.021018,
          "end_time": "2021-12-04T08:57:57.144392",
          "exception": false,
          "start_time": "2021-12-04T08:57:57.123374",
          "status": "completed"
        },
        "tags": [],
        "id": "02f81837"
      },
      "source": [
        "## Model Training"
      ]
    },
    {
      "cell_type": "code",
      "execution_count": null,
      "id": "84fa91e8",
      "metadata": {
        "execution": {
          "iopub.execute_input": "2021-12-04T08:57:57.197104Z",
          "iopub.status.busy": "2021-12-04T08:57:57.195988Z",
          "iopub.status.idle": "2021-12-04T09:08:18.288403Z",
          "shell.execute_reply": "2021-12-04T09:08:18.287764Z",
          "shell.execute_reply.started": "2021-11-18T16:54:34.027587Z"
        },
        "papermill": {
          "duration": 621.123169,
          "end_time": "2021-12-04T09:08:18.288568",
          "exception": false,
          "start_time": "2021-12-04T08:57:57.165399",
          "status": "completed"
        },
        "tags": [],
        "id": "84fa91e8",
        "outputId": "efea8a25-76ee-4ed5-cea0-e318b6c3d9d3"
      },
      "outputs": [
        {
          "name": "stdout",
          "output_type": "stream",
          "text": [
            "Epoch 1/50\n",
            "499/499 [==============================] - 15s 26ms/step - loss: 0.3691 - categorical_accuracy: 0.8380 - auc: 0.8843 - val_loss: 0.1922 - val_categorical_accuracy: 0.9695 - val_auc: 0.9356\n",
            "Epoch 2/50\n",
            "499/499 [==============================] - 12s 24ms/step - loss: 0.1600 - categorical_accuracy: 0.9792 - auc: 0.9436 - val_loss: 0.1554 - val_categorical_accuracy: 0.9941 - val_auc: 0.9365\n",
            "Epoch 3/50\n",
            "499/499 [==============================] - 13s 25ms/step - loss: 0.1457 - categorical_accuracy: 0.9885 - auc: 0.9479 - val_loss: 0.1395 - val_categorical_accuracy: 0.9941 - val_auc: 0.9574\n",
            "Epoch 4/50\n",
            "499/499 [==============================] - 12s 24ms/step - loss: 0.1366 - categorical_accuracy: 0.9932 - auc: 0.9534 - val_loss: 0.1350 - val_categorical_accuracy: 0.9941 - val_auc: 0.9548\n",
            "Epoch 5/50\n",
            "499/499 [==============================] - 12s 24ms/step - loss: 0.1311 - categorical_accuracy: 0.9941 - auc: 0.9564 - val_loss: 0.1311 - val_categorical_accuracy: 0.9941 - val_auc: 0.9587\n",
            "Epoch 6/50\n",
            "499/499 [==============================] - 12s 25ms/step - loss: 0.1239 - categorical_accuracy: 0.9942 - auc: 0.9591 - val_loss: 0.1252 - val_categorical_accuracy: 0.9941 - val_auc: 0.9549\n",
            "Epoch 7/50\n",
            "499/499 [==============================] - 12s 24ms/step - loss: 0.1194 - categorical_accuracy: 0.9941 - auc: 0.9599 - val_loss: 0.1174 - val_categorical_accuracy: 0.9941 - val_auc: 0.9578\n",
            "Epoch 8/50\n",
            "499/499 [==============================] - 12s 24ms/step - loss: 0.1144 - categorical_accuracy: 0.9941 - auc: 0.9616 - val_loss: 0.1135 - val_categorical_accuracy: 0.9940 - val_auc: 0.9636\n",
            "Epoch 9/50\n",
            "499/499 [==============================] - 13s 25ms/step - loss: 0.1108 - categorical_accuracy: 0.9941 - auc: 0.9635 - val_loss: 0.1112 - val_categorical_accuracy: 0.9941 - val_auc: 0.9607\n",
            "Epoch 10/50\n",
            "499/499 [==============================] - 12s 25ms/step - loss: 0.1058 - categorical_accuracy: 0.9941 - auc: 0.9646 - val_loss: 0.1059 - val_categorical_accuracy: 0.9941 - val_auc: 0.9618\n",
            "Epoch 11/50\n",
            "499/499 [==============================] - 12s 25ms/step - loss: 0.1077 - categorical_accuracy: 0.9942 - auc: 0.9654 - val_loss: 0.1081 - val_categorical_accuracy: 0.9941 - val_auc: 0.9632\n",
            "Epoch 12/50\n",
            "499/499 [==============================] - 12s 24ms/step - loss: 0.1050 - categorical_accuracy: 0.9941 - auc: 0.9667 - val_loss: 0.1068 - val_categorical_accuracy: 0.9941 - val_auc: 0.9662\n",
            "Epoch 13/50\n",
            "499/499 [==============================] - 12s 25ms/step - loss: 0.1020 - categorical_accuracy: 0.9941 - auc: 0.9668 - val_loss: 0.1039 - val_categorical_accuracy: 0.9941 - val_auc: 0.9674\n",
            "Epoch 14/50\n",
            "499/499 [==============================] - 12s 25ms/step - loss: 0.0999 - categorical_accuracy: 0.9941 - auc: 0.9674 - val_loss: 0.1015 - val_categorical_accuracy: 0.9940 - val_auc: 0.9673\n",
            "Epoch 15/50\n",
            "499/499 [==============================] - 12s 25ms/step - loss: 0.0977 - categorical_accuracy: 0.9941 - auc: 0.9674 - val_loss: 0.1020 - val_categorical_accuracy: 0.9940 - val_auc: 0.9695\n",
            "Epoch 16/50\n",
            "499/499 [==============================] - 12s 24ms/step - loss: 0.0999 - categorical_accuracy: 0.9941 - auc: 0.9680 - val_loss: 0.1002 - val_categorical_accuracy: 0.9941 - val_auc: 0.9687\n",
            "Epoch 17/50\n",
            "499/499 [==============================] - 12s 25ms/step - loss: 0.0981 - categorical_accuracy: 0.9941 - auc: 0.9678 - val_loss: 0.1015 - val_categorical_accuracy: 0.9938 - val_auc: 0.9654\n",
            "Epoch 18/50\n",
            "499/499 [==============================] - 13s 25ms/step - loss: 0.0989 - categorical_accuracy: 0.9940 - auc: 0.9680 - val_loss: 0.1076 - val_categorical_accuracy: 0.9941 - val_auc: 0.9641\n",
            "Epoch 19/50\n",
            "499/499 [==============================] - 12s 24ms/step - loss: 0.0973 - categorical_accuracy: 0.9941 - auc: 0.9687 - val_loss: 0.0974 - val_categorical_accuracy: 0.9940 - val_auc: 0.9672\n",
            "Epoch 20/50\n",
            "499/499 [==============================] - 12s 24ms/step - loss: 0.0971 - categorical_accuracy: 0.9941 - auc: 0.9692 - val_loss: 0.1011 - val_categorical_accuracy: 0.9940 - val_auc: 0.9715\n",
            "Epoch 21/50\n",
            "499/499 [==============================] - 13s 25ms/step - loss: 0.0961 - categorical_accuracy: 0.9941 - auc: 0.9692 - val_loss: 0.1011 - val_categorical_accuracy: 0.9940 - val_auc: 0.9719\n",
            "Epoch 22/50\n",
            "499/499 [==============================] - 12s 25ms/step - loss: 0.0974 - categorical_accuracy: 0.9940 - auc: 0.9696 - val_loss: 0.1015 - val_categorical_accuracy: 0.9941 - val_auc: 0.9692\n",
            "Epoch 23/50\n",
            "499/499 [==============================] - 13s 26ms/step - loss: 0.0927 - categorical_accuracy: 0.9940 - auc: 0.9699 - val_loss: 0.0905 - val_categorical_accuracy: 0.9940 - val_auc: 0.9706\n",
            "Epoch 24/50\n",
            "499/499 [==============================] - 12s 23ms/step - loss: 0.0943 - categorical_accuracy: 0.9941 - auc: 0.9702 - val_loss: 0.1039 - val_categorical_accuracy: 0.9940 - val_auc: 0.9702\n",
            "Epoch 25/50\n",
            "499/499 [==============================] - 12s 25ms/step - loss: 0.0967 - categorical_accuracy: 0.9940 - auc: 0.9708 - val_loss: 0.0960 - val_categorical_accuracy: 0.9941 - val_auc: 0.9715\n",
            "Epoch 26/50\n",
            "499/499 [==============================] - 13s 26ms/step - loss: 0.0948 - categorical_accuracy: 0.9941 - auc: 0.9703 - val_loss: 0.0997 - val_categorical_accuracy: 0.9941 - val_auc: 0.9703\n",
            "Epoch 27/50\n",
            "499/499 [==============================] - 12s 24ms/step - loss: 0.0906 - categorical_accuracy: 0.9941 - auc: 0.9705 - val_loss: 0.0896 - val_categorical_accuracy: 0.9940 - val_auc: 0.9725\n",
            "Epoch 28/50\n",
            "499/499 [==============================] - 12s 23ms/step - loss: 0.0860 - categorical_accuracy: 0.9941 - auc: 0.9723 - val_loss: 0.0872 - val_categorical_accuracy: 0.9940 - val_auc: 0.9703\n",
            "Epoch 29/50\n",
            "499/499 [==============================] - 13s 26ms/step - loss: 0.0883 - categorical_accuracy: 0.9941 - auc: 0.9722 - val_loss: 0.0904 - val_categorical_accuracy: 0.9939 - val_auc: 0.9700\n",
            "Epoch 30/50\n",
            "499/499 [==============================] - 12s 24ms/step - loss: 0.0890 - categorical_accuracy: 0.9937 - auc: 0.9716 - val_loss: 0.0915 - val_categorical_accuracy: 0.9939 - val_auc: 0.9698\n",
            "Epoch 31/50\n",
            "499/499 [==============================] - 12s 23ms/step - loss: 0.0888 - categorical_accuracy: 0.9934 - auc: 0.9713 - val_loss: 0.0881 - val_categorical_accuracy: 0.9934 - val_auc: 0.9715\n",
            "Epoch 32/50\n",
            "499/499 [==============================] - 13s 25ms/step - loss: 0.0861 - categorical_accuracy: 0.9925 - auc: 0.9714 - val_loss: 0.0896 - val_categorical_accuracy: 0.9912 - val_auc: 0.9704\n",
            "Epoch 33/50\n",
            "499/499 [==============================] - 12s 24ms/step - loss: 0.0889 - categorical_accuracy: 0.9914 - auc: 0.9713 - val_loss: 0.0897 - val_categorical_accuracy: 0.9925 - val_auc: 0.9714\n",
            "Epoch 34/50\n",
            "499/499 [==============================] - 12s 23ms/step - loss: 0.0774 - categorical_accuracy: 0.9907 - auc: 0.9753 - val_loss: 0.0774 - val_categorical_accuracy: 0.9892 - val_auc: 0.9742\n",
            "Epoch 35/50\n",
            "499/499 [==============================] - 14s 28ms/step - loss: 0.0745 - categorical_accuracy: 0.9914 - auc: 0.9760 - val_loss: 0.0765 - val_categorical_accuracy: 0.9915 - val_auc: 0.9742\n",
            "Epoch 36/50\n",
            "499/499 [==============================] - 12s 24ms/step - loss: 0.0727 - categorical_accuracy: 0.9902 - auc: 0.9764 - val_loss: 0.0759 - val_categorical_accuracy: 0.9914 - val_auc: 0.9726\n",
            "Epoch 37/50\n",
            "499/499 [==============================] - 12s 25ms/step - loss: 0.0731 - categorical_accuracy: 0.9897 - auc: 0.9763 - val_loss: 0.0777 - val_categorical_accuracy: 0.9904 - val_auc: 0.9753\n",
            "Epoch 38/50\n",
            "499/499 [==============================] - 13s 25ms/step - loss: 0.0730 - categorical_accuracy: 0.9895 - auc: 0.9762 - val_loss: 0.0760 - val_categorical_accuracy: 0.9902 - val_auc: 0.9729\n",
            "Epoch 39/50\n",
            "499/499 [==============================] - 11s 23ms/step - loss: 0.0731 - categorical_accuracy: 0.9886 - auc: 0.9763 - val_loss: 0.0778 - val_categorical_accuracy: 0.9876 - val_auc: 0.9709\n",
            "Epoch 40/50\n",
            "499/499 [==============================] - 13s 26ms/step - loss: 0.0731 - categorical_accuracy: 0.9879 - auc: 0.9766 - val_loss: 0.0765 - val_categorical_accuracy: 0.9868 - val_auc: 0.9735\n",
            "Epoch 41/50\n",
            "499/499 [==============================] - 12s 25ms/step - loss: 0.0720 - categorical_accuracy: 0.9856 - auc: 0.9766 - val_loss: 0.0764 - val_categorical_accuracy: 0.9865 - val_auc: 0.9722\n",
            "Epoch 42/50\n",
            "499/499 [==============================] - 12s 24ms/step - loss: 0.0670 - categorical_accuracy: 0.9860 - auc: 0.9796 - val_loss: 0.0713 - val_categorical_accuracy: 0.9863 - val_auc: 0.9750\n",
            "Epoch 43/50\n",
            "499/499 [==============================] - 14s 28ms/step - loss: 0.0655 - categorical_accuracy: 0.9850 - auc: 0.9799 - val_loss: 0.0708 - val_categorical_accuracy: 0.9841 - val_auc: 0.9754\n",
            "Epoch 44/50\n",
            "499/499 [==============================] - 11s 23ms/step - loss: 0.0654 - categorical_accuracy: 0.9837 - auc: 0.9801 - val_loss: 0.0710 - val_categorical_accuracy: 0.9840 - val_auc: 0.9727\n",
            "Epoch 45/50\n",
            "499/499 [==============================] - 11s 23ms/step - loss: 0.0652 - categorical_accuracy: 0.9836 - auc: 0.9805 - val_loss: 0.0711 - val_categorical_accuracy: 0.9814 - val_auc: 0.9735\n",
            "Epoch 46/50\n",
            "499/499 [==============================] - 14s 28ms/step - loss: 0.0648 - categorical_accuracy: 0.9825 - auc: 0.9808 - val_loss: 0.0710 - val_categorical_accuracy: 0.9814 - val_auc: 0.9725\n",
            "Epoch 47/50\n",
            "499/499 [==============================] - 11s 23ms/step - loss: 0.0650 - categorical_accuracy: 0.9806 - auc: 0.9806 - val_loss: 0.0726 - val_categorical_accuracy: 0.9816 - val_auc: 0.9701\n",
            "Epoch 48/50\n",
            "499/499 [==============================] - 11s 23ms/step - loss: 0.0650 - categorical_accuracy: 0.9795 - auc: 0.9804 - val_loss: 0.0709 - val_categorical_accuracy: 0.9786 - val_auc: 0.9734\n",
            "Epoch 49/50\n",
            "499/499 [==============================] - 14s 28ms/step - loss: 0.0619 - categorical_accuracy: 0.9767 - auc: 0.9826 - val_loss: 0.0692 - val_categorical_accuracy: 0.9773 - val_auc: 0.9737\n",
            "Epoch 50/50\n",
            "499/499 [==============================] - 12s 23ms/step - loss: 0.0611 - categorical_accuracy: 0.9745 - auc: 0.9829 - val_loss: 0.0687 - val_categorical_accuracy: 0.9806 - val_auc: 0.9751\n"
          ]
        }
      ],
      "source": [
        "if config.current_mode == config.operation_modes[0]:\n",
        "    best_accuracy_checkpoint = keras.callbacks.ModelCheckpoint(config.best_accuracy_model_path, save_best_only=True, save_weights_only=True, monitor=\"val_categorical_accuracy\")\n",
        "    best_auc_checkpoint = keras.callbacks.ModelCheckpoint(config.best_auc_model_path, save_best_only=True, save_weights_only=True, monitor=\"val_auc\")\n",
        "    best_loss_checkpoint = keras.callbacks.ModelCheckpoint(config.best_loss_model_path, save_best_only=True, save_weights_only=True, monitor=\"val_loss\")\n",
        "    learning_rate_reduction = keras.callbacks.ReduceLROnPlateau(patience=5, factor=0.5)\n",
        "    classification_model.fit(train_text_data, train_labels, epochs=config.num_epochs, batch_size=config.batch_size, validation_data=(val_text_data, val_labels), callbacks=[best_accuracy_checkpoint, best_auc_checkpoint, best_loss_checkpoint, learning_rate_reduction])\n",
        "    classification_model.save_weights(config.latest_model_path)"
      ]
    },
    {
      "cell_type": "markdown",
      "id": "9585404e",
      "metadata": {
        "papermill": {
          "duration": 2.896682,
          "end_time": "2021-12-04T09:08:23.998317",
          "exception": false,
          "start_time": "2021-12-04T09:08:21.101635",
          "status": "completed"
        },
        "tags": [],
        "id": "9585404e"
      },
      "source": [
        "## Model Evluation\n"
      ]
    },
    {
      "cell_type": "code",
      "execution_count": null,
      "id": "07f71a26",
      "metadata": {
        "execution": {
          "iopub.execute_input": "2021-12-04T09:08:30.618356Z",
          "iopub.status.busy": "2021-12-04T09:08:30.617652Z",
          "iopub.status.idle": "2021-12-04T09:08:30.621198Z",
          "shell.execute_reply": "2021-12-04T09:08:30.620703Z",
          "shell.execute_reply.started": "2021-11-18T16:54:37.244128Z"
        },
        "papermill": {
          "duration": 3.76798,
          "end_time": "2021-12-04T09:08:30.621355",
          "exception": false,
          "start_time": "2021-12-04T09:08:26.853375",
          "status": "completed"
        },
        "tags": [],
        "id": "07f71a26"
      },
      "outputs": [],
      "source": [
        "def evaluate_model(classification_model, model_file_path, val_text_data, val_labels):\n",
        "    print(\"Evaluation of %s\" % (model_file_path))\n",
        "    model_weights_path = model_file_path\n",
        "    if config.current_mode == config.operation_modes[1]:\n",
        "        model_weights_path = os.path.join(config.output_dataset_directory, model_weights_path)\n",
        "    classification_model.load_weights(model_weights_path)\n",
        "    prediction_result = np.array(classification_model.predict(val_text_data) > 0.5, dtype=int)\n",
        "    for i in range(len(config.target_labels)):\n",
        "        class_report = metrics.classification_report(val_labels[config.target_labels[i]], prediction_result[:, i])\n",
        "        print(\"Classification Report for %s\" % config.target_labels[i])\n",
        "        print(class_report)"
      ]
    },
    {
      "cell_type": "code",
      "execution_count": null,
      "id": "9739051c",
      "metadata": {
        "execution": {
          "iopub.execute_input": "2021-12-04T09:08:36.341405Z",
          "iopub.status.busy": "2021-12-04T09:08:36.339928Z",
          "iopub.status.idle": "2021-12-04T09:08:56.149531Z",
          "shell.execute_reply": "2021-12-04T09:08:56.148600Z",
          "shell.execute_reply.started": "2021-11-18T16:53:16.505515Z"
        },
        "papermill": {
          "duration": 22.67199,
          "end_time": "2021-12-04T09:08:56.149709",
          "exception": false,
          "start_time": "2021-12-04T09:08:33.477719",
          "status": "completed"
        },
        "tags": [],
        "id": "9739051c",
        "outputId": "9b7301ea-ddfc-4484-e8d9-15a1a5850203"
      },
      "outputs": [
        {
          "name": "stdout",
          "output_type": "stream",
          "text": [
            "Evaluation of model_best_acc.tf\n",
            "Classification Report of toxic\n",
            "              precision    recall  f1-score   support\n",
            "\n",
            "           0       0.92      1.00      0.96     28859\n",
            "           1       0.98      0.19      0.32      3056\n",
            "\n",
            "    accuracy                           0.92     31915\n",
            "   macro avg       0.95      0.60      0.64     31915\n",
            "weighted avg       0.93      0.92      0.90     31915\n",
            "\n",
            "Classification Report of severe_toxic\n",
            "              precision    recall  f1-score   support\n",
            "\n",
            "           0       0.99      1.00      0.99     31594\n",
            "           1       0.00      0.00      0.00       321\n",
            "\n",
            "    accuracy                           0.99     31915\n",
            "   macro avg       0.49      0.50      0.50     31915\n",
            "weighted avg       0.98      0.99      0.98     31915\n",
            "\n",
            "Classification Report of obscene\n",
            "              precision    recall  f1-score   support\n",
            "\n",
            "           0       0.96      1.00      0.98     30200\n",
            "           1       0.93      0.21      0.35      1715\n",
            "\n",
            "    accuracy                           0.96     31915\n",
            "   macro avg       0.94      0.61      0.66     31915\n",
            "weighted avg       0.96      0.96      0.94     31915\n",
            "\n",
            "Classification Report of threat\n",
            "              precision    recall  f1-score   support\n",
            "\n",
            "           0       1.00      1.00      1.00     31841\n",
            "           1       0.00      0.00      0.00        74\n",
            "\n",
            "    accuracy                           1.00     31915\n",
            "   macro avg       0.50      0.50      0.50     31915\n",
            "weighted avg       1.00      1.00      1.00     31915\n",
            "\n",
            "Classification Report of insult\n",
            "              precision    recall  f1-score   support\n",
            "\n",
            "           0       0.96      1.00      0.98     30301\n",
            "           1       0.87      0.14      0.24      1614\n",
            "\n",
            "    accuracy                           0.96     31915\n",
            "   macro avg       0.91      0.57      0.61     31915\n",
            "weighted avg       0.95      0.96      0.94     31915\n",
            "\n",
            "Classification Report of identity_hate\n",
            "              precision    recall  f1-score   support\n",
            "\n",
            "           0       0.99      1.00      1.00     31621\n",
            "           1       0.50      0.00      0.01       294\n",
            "\n",
            "    accuracy                           0.99     31915\n",
            "   macro avg       0.75      0.50      0.50     31915\n",
            "weighted avg       0.99      0.99      0.99     31915\n",
            "\n",
            "Evaluation of model_best_auc.tf\n"
          ]
        },
        {
          "name": "stderr",
          "output_type": "stream",
          "text": [
            "/opt/conda/lib/python3.7/site-packages/sklearn/metrics/_classification.py:1221: UndefinedMetricWarning: Precision and F-score are ill-defined and being set to 0.0 in labels with no predicted samples. Use `zero_division` parameter to control this behavior.\n",
            "  _warn_prf(average, modifier, msg_start, len(result))\n"
          ]
        },
        {
          "name": "stdout",
          "output_type": "stream",
          "text": [
            "Classification Report of toxic\n",
            "              precision    recall  f1-score   support\n",
            "\n",
            "           0       0.92      1.00      0.96     28859\n",
            "           1       0.96      0.20      0.32      3056\n",
            "\n",
            "    accuracy                           0.92     31915\n",
            "   macro avg       0.94      0.60      0.64     31915\n",
            "weighted avg       0.92      0.92      0.90     31915\n",
            "\n",
            "Classification Report of severe_toxic\n",
            "              precision    recall  f1-score   support\n",
            "\n",
            "           0       0.99      1.00      1.00     31594\n",
            "           1       0.55      0.11      0.19       321\n",
            "\n",
            "    accuracy                           0.99     31915\n",
            "   macro avg       0.77      0.56      0.59     31915\n",
            "weighted avg       0.99      0.99      0.99     31915\n",
            "\n",
            "Classification Report of obscene\n",
            "              precision    recall  f1-score   support\n",
            "\n",
            "           0       0.96      1.00      0.98     30200\n",
            "           1       0.90      0.20      0.33      1715\n",
            "\n",
            "    accuracy                           0.96     31915\n",
            "   macro avg       0.93      0.60      0.65     31915\n",
            "weighted avg       0.95      0.96      0.94     31915\n",
            "\n",
            "Classification Report of threat\n",
            "              precision    recall  f1-score   support\n",
            "\n",
            "           0       1.00      1.00      1.00     31841\n",
            "           1       0.00      0.00      0.00        74\n",
            "\n",
            "    accuracy                           1.00     31915\n",
            "   macro avg       0.50      0.50      0.50     31915\n",
            "weighted avg       1.00      1.00      1.00     31915\n",
            "\n",
            "Classification Report of insult\n",
            "              precision    recall  f1-score   support\n",
            "\n",
            "           0       0.95      1.00      0.98     30301\n",
            "           1       0.84      0.11      0.19      1614\n",
            "\n",
            "    accuracy                           0.95     31915\n",
            "   macro avg       0.90      0.55      0.58     31915\n",
            "weighted avg       0.95      0.95      0.94     31915\n",
            "\n",
            "Classification Report of identity_hate\n",
            "              precision    recall  f1-score   support\n",
            "\n",
            "           0       0.99      1.00      1.00     31621\n",
            "           1       0.50      0.00      0.01       294\n",
            "\n",
            "    accuracy                           0.99     31915\n",
            "   macro avg       0.75      0.50      0.50     31915\n",
            "weighted avg       0.99      0.99      0.99     31915\n",
            "\n",
            "Evaluation of model_latest.tf\n",
            "Classification Report of toxic\n",
            "              precision    recall  f1-score   support\n",
            "\n",
            "           0       0.97      0.99      0.98     28859\n",
            "           1       0.87      0.66      0.75      3056\n",
            "\n",
            "    accuracy                           0.96     31915\n",
            "   macro avg       0.92      0.83      0.87     31915\n",
            "weighted avg       0.96      0.96      0.96     31915\n",
            "\n",
            "Classification Report of severe_toxic\n",
            "              precision    recall  f1-score   support\n",
            "\n",
            "           0       0.99      1.00      1.00     31594\n",
            "           1       0.65      0.05      0.09       321\n",
            "\n",
            "    accuracy                           0.99     31915\n",
            "   macro avg       0.82      0.52      0.54     31915\n",
            "weighted avg       0.99      0.99      0.99     31915\n",
            "\n",
            "Classification Report of obscene\n",
            "              precision    recall  f1-score   support\n",
            "\n",
            "           0       0.98      0.99      0.99     30200\n",
            "           1       0.83      0.67      0.74      1715\n",
            "\n",
            "    accuracy                           0.97     31915\n",
            "   macro avg       0.90      0.83      0.86     31915\n",
            "weighted avg       0.97      0.97      0.97     31915\n",
            "\n",
            "Classification Report of threat\n",
            "              precision    recall  f1-score   support\n",
            "\n",
            "           0       1.00      1.00      1.00     31841\n",
            "           1       0.00      0.00      0.00        74\n",
            "\n",
            "    accuracy                           1.00     31915\n",
            "   macro avg       0.50      0.50      0.50     31915\n",
            "weighted avg       1.00      1.00      1.00     31915\n",
            "\n",
            "Classification Report of insult\n",
            "              precision    recall  f1-score   support\n",
            "\n",
            "           0       0.98      0.99      0.98     30301\n",
            "           1       0.74      0.59      0.66      1614\n",
            "\n",
            "    accuracy                           0.97     31915\n",
            "   macro avg       0.86      0.79      0.82     31915\n",
            "weighted avg       0.97      0.97      0.97     31915\n",
            "\n",
            "Classification Report of identity_hate\n",
            "              precision    recall  f1-score   support\n",
            "\n",
            "           0       0.99      1.00      1.00     31621\n",
            "           1       0.00      0.00      0.00       294\n",
            "\n",
            "    accuracy                           0.99     31915\n",
            "   macro avg       0.50      0.50      0.50     31915\n",
            "weighted avg       0.98      0.99      0.99     31915\n",
            "\n",
            "Evaluation of model_best_loss.tf\n",
            "Classification Report of toxic\n",
            "              precision    recall  f1-score   support\n",
            "\n",
            "           0       0.97      0.99      0.98     28859\n",
            "           1       0.87      0.66      0.75      3056\n",
            "\n",
            "    accuracy                           0.96     31915\n",
            "   macro avg       0.92      0.83      0.87     31915\n",
            "weighted avg       0.96      0.96      0.96     31915\n",
            "\n",
            "Classification Report of severe_toxic\n",
            "              precision    recall  f1-score   support\n",
            "\n",
            "           0       0.99      1.00      1.00     31594\n",
            "           1       0.65      0.05      0.09       321\n",
            "\n",
            "    accuracy                           0.99     31915\n",
            "   macro avg       0.82      0.52      0.54     31915\n",
            "weighted avg       0.99      0.99      0.99     31915\n",
            "\n",
            "Classification Report of obscene\n",
            "              precision    recall  f1-score   support\n",
            "\n",
            "           0       0.98      0.99      0.99     30200\n",
            "           1       0.83      0.67      0.74      1715\n",
            "\n",
            "    accuracy                           0.97     31915\n",
            "   macro avg       0.90      0.83      0.86     31915\n",
            "weighted avg       0.97      0.97      0.97     31915\n",
            "\n",
            "Classification Report of threat\n",
            "              precision    recall  f1-score   support\n",
            "\n",
            "           0       1.00      1.00      1.00     31841\n",
            "           1       0.00      0.00      0.00        74\n",
            "\n",
            "    accuracy                           1.00     31915\n",
            "   macro avg       0.50      0.50      0.50     31915\n",
            "weighted avg       1.00      1.00      1.00     31915\n",
            "\n",
            "Classification Report of insult\n",
            "              precision    recall  f1-score   support\n",
            "\n",
            "           0       0.98      0.99      0.98     30301\n",
            "           1       0.74      0.59      0.66      1614\n",
            "\n",
            "    accuracy                           0.97     31915\n",
            "   macro avg       0.86      0.79      0.82     31915\n",
            "weighted avg       0.97      0.97      0.97     31915\n",
            "\n",
            "Classification Report of identity_hate\n",
            "              precision    recall  f1-score   support\n",
            "\n",
            "           0       0.99      1.00      1.00     31621\n",
            "           1       0.00      0.00      0.00       294\n",
            "\n",
            "    accuracy                           0.99     31915\n",
            "   macro avg       0.50      0.50      0.50     31915\n",
            "weighted avg       0.98      0.99      0.99     31915\n",
            "\n"
          ]
        }
      ],
      "source": [
        "for model_file_path in config.model_file_paths:\n",
        "    evaluate_model(classification_model, model_file_path, val_text_data, val_labels)"
      ]
    }
  ],
  "metadata": {
    "kernelspec": {
      "display_name": "Python 3",
      "language": "python",
      "name": "python3"
    },
    "language_info": {
      "codemirror_mode": {
        "name": "ipython",
        "version": 3
      },
      "file_extension": ".py",
      "mimetype": "text/x-python",
      "name": "python",
      "nbconvert_exporter": "python",
      "pygments_lexer": "ipython3",
      "version": "3.7.10"
    },
    "papermill": {
      "default_parameters": {},
      "duration": 746.603438,
      "end_time": "2021-12-04T09:09:23.083758",
      "environment_variables": {},
      "exception": null,
      "input_path": "__notebook__.ipynb",
      "output_path": "__notebook__.ipynb",
      "parameters": {},
      "start_time": "2021-12-04T08:56:56.480320",
      "version": "2.3.3"
    },
    "colab": {
      "provenance": []
    }
  },
  "nbformat": 4,
  "nbformat_minor": 5
}